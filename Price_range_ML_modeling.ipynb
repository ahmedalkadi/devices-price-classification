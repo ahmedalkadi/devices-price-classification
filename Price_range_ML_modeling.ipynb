{
 "cells": [
  {
   "cell_type": "markdown",
   "metadata": {},
   "source": [
    "# Price Range ML Prediction model"
   ]
  },
  {
   "cell_type": "markdown",
   "metadata": {},
   "source": [
    "- In this notebook, I will build a machine learning model to predict the price range of a mobile phone based on its features.\n",
    "- Evalute the model and fine-tune it to get the best performance."
   ]
  },
  {
   "cell_type": "code",
   "execution_count": 23,
   "metadata": {},
   "outputs": [],
   "source": [
    "# import the neccecary libraries\n",
    "import pandas as pd \n",
    "import numpy as np\n",
    "import matplotlib.pyplot as plt\n",
    "import seaborn as sns\n",
    "import pickle   \n",
    "from sklearn.model_selection import train_test_split\n",
    "from sklearn.metrics import precision_score, recall_score, f1_score, accuracy_score\n",
    "from sklearn.metrics import confusion_matrix\n",
    "from sklearn.linear_model import LogisticRegression\n",
    "from sklearn.ensemble import RandomForestClassifier\n",
    "from sklearn.tree import DecisionTreeClassifier\n",
    "from sklearn.svm import SVC\n",
    "\n"
   ]
  },
  {
   "cell_type": "code",
   "execution_count": 7,
   "metadata": {},
   "outputs": [],
   "source": [
    "# import the data\n",
    "\n",
    "train_data = pd.read_csv('Source Data/train_cleaned.csv')   \n",
    "test_data = pd.read_csv('Source Data/test - test.csv')\n"
   ]
  },
  {
   "cell_type": "markdown",
   "metadata": {},
   "source": [
    "### Implement a function to evaluate the model using ML metrics\n"
   ]
  },
  {
   "cell_type": "code",
   "execution_count": 9,
   "metadata": {},
   "outputs": [],
   "source": [
    "# build models\n",
    "# the problem is classification problem with balanced target variable\n",
    "# so the evaluation metrics are accuracy, precision, recall, f1_score the average is macro \n",
    "\n",
    "def evaluate_model_models(models, X_train, X_test, y_train, y_test):\n",
    "    compare_list = []\n",
    "    for name, clf in models :\n",
    "        clf.fit(X_train, y_train)\n",
    "        y_pred = clf.predict(X_test)\n",
    "        compare_list.append((pd.Series({\"Precision\" : precision_score(y_test, y_pred,average='macro'),\n",
    "                           \"Recall\" : recall_score(y_test, y_pred,average='macro'),\n",
    "                           \"F1\" : f1_score(y_test, y_pred,average='macro'),\n",
    "                           \"Accuracy\" : accuracy_score(y_test, y_pred),\n",
    "                           \"Train_Score\" : clf.score((X_train),y_train),\n",
    "                           \"Test_Score\" : clf.score((X_test), y_test)}, name = name)))\n",
    "    compare_list = pd.DataFrame(compare_list).T\n",
    "    return compare_list"
   ]
  },
  {
   "cell_type": "code",
   "execution_count": 11,
   "metadata": {},
   "outputs": [],
   "source": [
    "# the following are the models that will be used in the evaluation\n",
    "clf_DT=DecisionTreeClassifier()\n",
    "clf_RF=RandomForestClassifier()\n",
    "clf_SVC=SVC()\n",
    "models = [('DT',clf_DT), ('RF',clf_RF),('SVC',clf_SVC)]"
   ]
  },
  {
   "cell_type": "code",
   "execution_count": 16,
   "metadata": {},
   "outputs": [
    {
     "data": {
      "text/html": [
       "<div>\n",
       "<style scoped>\n",
       "    .dataframe tbody tr th:only-of-type {\n",
       "        vertical-align: middle;\n",
       "    }\n",
       "\n",
       "    .dataframe tbody tr th {\n",
       "        vertical-align: top;\n",
       "    }\n",
       "\n",
       "    .dataframe thead th {\n",
       "        text-align: right;\n",
       "    }\n",
       "</style>\n",
       "<table border=\"1\" class=\"dataframe\">\n",
       "  <thead>\n",
       "    <tr style=\"text-align: right;\">\n",
       "      <th></th>\n",
       "      <th>DT</th>\n",
       "      <th>RF</th>\n",
       "      <th>SVC</th>\n",
       "    </tr>\n",
       "  </thead>\n",
       "  <tbody>\n",
       "    <tr>\n",
       "      <th>Precision</th>\n",
       "      <td>0.811120</td>\n",
       "      <td>0.873719</td>\n",
       "      <td>0.942955</td>\n",
       "    </tr>\n",
       "    <tr>\n",
       "      <th>Recall</th>\n",
       "      <td>0.808006</td>\n",
       "      <td>0.874421</td>\n",
       "      <td>0.943409</td>\n",
       "    </tr>\n",
       "    <tr>\n",
       "      <th>F1</th>\n",
       "      <td>0.808891</td>\n",
       "      <td>0.873905</td>\n",
       "      <td>0.942898</td>\n",
       "    </tr>\n",
       "    <tr>\n",
       "      <th>Accuracy</th>\n",
       "      <td>0.810000</td>\n",
       "      <td>0.877500</td>\n",
       "      <td>0.945000</td>\n",
       "    </tr>\n",
       "    <tr>\n",
       "      <th>Train_Score</th>\n",
       "      <td>1.000000</td>\n",
       "      <td>1.000000</td>\n",
       "      <td>0.942982</td>\n",
       "    </tr>\n",
       "    <tr>\n",
       "      <th>Test_Score</th>\n",
       "      <td>0.810000</td>\n",
       "      <td>0.877500</td>\n",
       "      <td>0.945000</td>\n",
       "    </tr>\n",
       "  </tbody>\n",
       "</table>\n",
       "</div>"
      ],
      "text/plain": [
       "                   DT        RF       SVC\n",
       "Precision    0.811120  0.873719  0.942955\n",
       "Recall       0.808006  0.874421  0.943409\n",
       "F1           0.808891  0.873905  0.942898\n",
       "Accuracy     0.810000  0.877500  0.945000\n",
       "Train_Score  1.000000  1.000000  0.942982\n",
       "Test_Score   0.810000  0.877500  0.945000"
      ]
     },
     "execution_count": 16,
     "metadata": {},
     "output_type": "execute_result"
    }
   ],
   "source": [
    "# define the target and features\n",
    "y = train_data[\"price_range\"]\n",
    "\n",
    "# according the correlation graph and the other metrics the following features are the most important features\n",
    "X = train_data.drop(['sc_w','price_range','four_g','m_dep','clock_speed','touch_screen'], axis=1)\n",
    "\n",
    "# split the data\n",
    "X_train, X_test, y_train, y_test = train_test_split(X, y, test_size=0.2, random_state=42)\n",
    "\n",
    "# run the models\n",
    "results = evaluate_model_models(models, X_train, X_test, y_train, y_test)\n",
    "results"
   ]
  },
  {
   "cell_type": "markdown",
   "metadata": {},
   "source": [
    "#### As shown from the previous table the SVC is the best model with the highest accuracy score of 0.94, we can fine tune the model to get the best performance."
   ]
  },
  {
   "cell_type": "code",
   "execution_count": 17,
   "metadata": {},
   "outputs": [],
   "source": [
    "# fine tune the SVC model \n",
    "\n",
    "def SVC_Tuning(X,y):\n",
    "    models_compare_list= []\n",
    "    X_train, X_test, y_train, y_test = train_test_split(X,y, test_size=0.2, random_state=0)\n",
    "    \n",
    "    for i in np.arange(1,150,.5):\n",
    "        for j in range(2,9):\n",
    "            clf=SVC(C=i,random_state=0,kernel='poly',degree=j)\n",
    "            clf.fit(X_train,y_train)\n",
    "            y_pred=clf.predict(X_test)\n",
    "            models_compare_list.append((pd.Series({\"Precision\" : precision_score(y_test, y_pred,average='macro'),\n",
    "                           \"Recall\" : recall_score(y_test, y_pred,average='macro'),\n",
    "                           \"F1\" : f1_score(y_test, y_pred,average='macro'),\n",
    "                           \"Accuracy\" : accuracy_score(y_test, y_pred),\n",
    "                           \"Train_Score\" : clf.score((X_train),y_train),\n",
    "                           \"Test_Score\" : clf.score((X_test), y_test)}, name = (i,j))))\n",
    "    models_compare_list = pd.DataFrame(models_compare_list).T\n",
    "    return models_compare_list"
   ]
  },
  {
   "cell_type": "code",
   "execution_count": 18,
   "metadata": {},
   "outputs": [
    {
     "data": {
      "text/plain": [
       "Precision       (42.5, 2)\n",
       "Recall          (42.5, 2)\n",
       "F1              (42.5, 2)\n",
       "Accuracy        (42.5, 2)\n",
       "Train_Score    (128.5, 8)\n",
       "Test_Score      (42.5, 2)\n",
       "dtype: object"
      ]
     },
     "execution_count": 18,
     "metadata": {},
     "output_type": "execute_result"
    }
   ],
   "source": [
    "# Call the function\n",
    "svc_fine_tuned_list = SVC_Tuning( X, y)\n",
    "\n",
    "# find the best model\n",
    "svc_fine_tuned_list.idxmax(axis=1) "
   ]
  },
  {
   "cell_type": "code",
   "execution_count": 22,
   "metadata": {},
   "outputs": [
    {
     "data": {
      "text/html": [
       "<div>\n",
       "<style scoped>\n",
       "    .dataframe tbody tr th:only-of-type {\n",
       "        vertical-align: middle;\n",
       "    }\n",
       "\n",
       "    .dataframe tbody tr th {\n",
       "        vertical-align: top;\n",
       "    }\n",
       "\n",
       "    .dataframe thead th {\n",
       "        text-align: right;\n",
       "    }\n",
       "</style>\n",
       "<table border=\"1\" class=\"dataframe\">\n",
       "  <thead>\n",
       "    <tr style=\"text-align: right;\">\n",
       "      <th></th>\n",
       "      <th>SVC</th>\n",
       "    </tr>\n",
       "  </thead>\n",
       "  <tbody>\n",
       "    <tr>\n",
       "      <th>Precision</th>\n",
       "      <td>0.951425</td>\n",
       "    </tr>\n",
       "    <tr>\n",
       "      <th>Recall</th>\n",
       "      <td>0.950762</td>\n",
       "    </tr>\n",
       "    <tr>\n",
       "      <th>F1</th>\n",
       "      <td>0.951019</td>\n",
       "    </tr>\n",
       "    <tr>\n",
       "      <th>Accuracy</th>\n",
       "      <td>0.952500</td>\n",
       "    </tr>\n",
       "    <tr>\n",
       "      <th>Train_Score</th>\n",
       "      <td>0.971178</td>\n",
       "    </tr>\n",
       "    <tr>\n",
       "      <th>Test_Score</th>\n",
       "      <td>0.952500</td>\n",
       "    </tr>\n",
       "  </tbody>\n",
       "</table>\n",
       "</div>"
      ],
      "text/plain": [
       "                  SVC\n",
       "Precision    0.951425\n",
       "Recall       0.950762\n",
       "F1           0.951019\n",
       "Accuracy     0.952500\n",
       "Train_Score  0.971178\n",
       "Test_Score   0.952500"
      ]
     },
     "execution_count": 22,
     "metadata": {},
     "output_type": "execute_result"
    }
   ],
   "source": [
    "# the best values are c= 128.5 and degree = 8\n",
    "# use degree 6 to avoid overfitting\n",
    "# run the model with the fine tuned parameters\n",
    "clf_SVC=SVC(C=128.5,random_state=0,kernel='poly',degree=6) \n",
    "models = [('SVC',clf_SVC)]\n",
    "result_2 = evaluate_model_models(models, X_train, X_test, y_train, y_test)\n",
    "result_2"
   ]
  },
  {
   "cell_type": "code",
   "execution_count": 25,
   "metadata": {},
   "outputs": [],
   "source": [
    "# save the model\n",
    "\n",
    "with open('ML Models/clf_SVC.pkl', 'wb') as file:\n",
    "    pickle.dump(clf_SVC, file)"
   ]
  },
  {
   "cell_type": "code",
   "execution_count": 26,
   "metadata": {},
   "outputs": [
    {
     "name": "stdout",
     "output_type": "stream",
     "text": [
      "CSV file has been converted to JSON successfully!\n"
     ]
    }
   ],
   "source": [
    "# save the test data in json format\n",
    "\n",
    "test_data.to_json('Source Data/test_devices.json', orient='records', lines=False)\n",
    "\n",
    "print(\"CSV file has been converted to JSON successfully!\")"
   ]
  }
 ],
 "metadata": {
  "kernelspec": {
   "display_name": "Python 3",
   "language": "python",
   "name": "python3"
  },
  "language_info": {
   "codemirror_mode": {
    "name": "ipython",
    "version": 3
   },
   "file_extension": ".py",
   "mimetype": "text/x-python",
   "name": "python",
   "nbconvert_exporter": "python",
   "pygments_lexer": "ipython3",
   "version": "3.11.9"
  }
 },
 "nbformat": 4,
 "nbformat_minor": 2
}
