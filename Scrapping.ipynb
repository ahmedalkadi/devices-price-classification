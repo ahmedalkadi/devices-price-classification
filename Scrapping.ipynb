{
 "cells": [
  {
   "cell_type": "markdown",
   "metadata": {},
   "source": [
    "## Scrapping Notebook   \n",
    "This notebook is used to scrap the data from the website. The data is then saved in a csv file. The data is then used in the main notebook for analysis.</br>\n",
    "This data is scrapped from the website: https://ineedlearn.wordpress.com/2020/12/26/width-height-and-dpr-of-cell-phones/.</br>\n",
    "This data is then used to create a dataset which is used in the main notebook for analysis.</br>\n",
    "This website contains the data of the width, height and dpr of the cell phones. This data is scrapped and saved in a csv file.</br>\n",
    "This data will be used to predict the height of the cell phone based on the width of the the cell phone.</br>\n",
    "\n"
   ]
  },
  {
   "cell_type": "code",
   "execution_count": 1,
   "metadata": {},
   "outputs": [],
   "source": [
    "# intsall the following packages \n",
    "!pip install selenium"
   ]
  },
  {
   "cell_type": "code",
   "execution_count": 2,
   "metadata": {},
   "outputs": [],
   "source": [
    "# import the following packages\n",
    "\n",
    "import pandas as pd\n",
    "import numpy as np\n",
    "import time\n",
    "from selenium import webdriver\n",
    "from selenium.webdriver.chrome.options import Options\n",
    "from selenium.webdriver.common.by import By\n",
    "from selenium.webdriver.chrome.service import Service\n"
   ]
  },
  {
   "cell_type": "code",
   "execution_count": 4,
   "metadata": {},
   "outputs": [],
   "source": [
    "# to stop the live web scraping and work in the background\n",
    "chrome_options = Options()\n",
    "chrome_options.add_argument(\"--headless\")\n",
    "driver = webdriver.Chrome(options = chrome_options)\n",
    "\n",
    "url = \"https://ineedlearn.wordpress.com/2020/12/26/width-height-and-dpr-of-cell-phones/\"\n",
    "\n",
    "# Open the target URL\n",
    "driver.get(url)\n",
    "\n",
    "# the list to store the data \n",
    "mobile_prop = []\n",
    "\n",
    "# Allow some time for the page to load\n",
    "time.sleep(3)\n",
    "\n",
    "# Scrape the data the devices are 300 rows in the table\n",
    "for i in range(1, 300):\n",
    "    try:\n",
    "        # Locate the row using XPath\n",
    "        row = driver.find_element(By.XPATH, f\"/html/body/div[1]/div/div/main/article/div[1]/div[1]/figure/table/tbody/tr[{i}]\")\n",
    "        \n",
    "        # Extract the text content of the row\n",
    "        mobile_prop.append(row.text)\n",
    "    except Exception as e:\n",
    "        # If an error occurs, print the error and continue\n",
    "        print(f\"Error on row {i}: {e}\")\n",
    "        break\n",
    "\n",
    "# Close the WebDriver\n",
    "driver.quit()"
   ]
  },
  {
   "cell_type": "code",
   "execution_count": 7,
   "metadata": {},
   "outputs": [
    {
     "data": {
      "text/plain": [
       "['ALCATEL',\n",
       " 'Width (px) Height (px) DPR',\n",
       " 'Alcatel One Touch Idol Ultra 360 316 2',\n",
       " 'Alcatel One Touch Ultra 995 320 217 1.5',\n",
       " 'KINDLE FIRE',\n",
       " 'Width (px) Height (px) DPR',\n",
       " 'Amazon Kindle Fire 600 1024 1',\n",
       " 'Amazon Kindle Fire HD 7 533 853 1.5',\n",
       " 'Amazon Kindle Fire HD 8.9 800 1280 1.5',\n",
       " 'APLLE']"
      ]
     },
     "execution_count": 7,
     "metadata": {},
     "output_type": "execute_result"
    }
   ],
   "source": [
    "mobile_prop[:10]"
   ]
  },
  {
   "cell_type": "markdown",
   "metadata": {},
   "source": [
    "### Processing the scrapped data "
   ]
  },
  {
   "cell_type": "code",
   "execution_count": 8,
   "metadata": {},
   "outputs": [
    {
     "name": "stderr",
     "output_type": "stream",
     "text": [
      "C:\\Users\\AHMED OSAMA\\AppData\\Local\\Temp\\ipykernel_28176\\3978398701.py:25: FutureWarning: The behavior of DataFrame concatenation with empty or all-NA entries is deprecated. In a future version, this will no longer exclude empty or all-NA columns when determining the result dtypes. To retain the old behavior, exclude the relevant entries before the concat operation.\n",
      "  screen_properties = pd.concat([screen_properties, new_row], ignore_index=True)\n",
      "C:\\Users\\AHMED OSAMA\\AppData\\Local\\Temp\\ipykernel_28176\\3978398701.py:25: FutureWarning: The behavior of DataFrame concatenation with empty or all-NA entries is deprecated. In a future version, this will no longer exclude empty or all-NA columns when determining the result dtypes. To retain the old behavior, exclude the relevant entries before the concat operation.\n",
      "  screen_properties = pd.concat([screen_properties, new_row], ignore_index=True)\n",
      "C:\\Users\\AHMED OSAMA\\AppData\\Local\\Temp\\ipykernel_28176\\3978398701.py:25: FutureWarning: The behavior of DataFrame concatenation with empty or all-NA entries is deprecated. In a future version, this will no longer exclude empty or all-NA columns when determining the result dtypes. To retain the old behavior, exclude the relevant entries before the concat operation.\n",
      "  screen_properties = pd.concat([screen_properties, new_row], ignore_index=True)\n",
      "C:\\Users\\AHMED OSAMA\\AppData\\Local\\Temp\\ipykernel_28176\\3978398701.py:25: FutureWarning: The behavior of DataFrame concatenation with empty or all-NA entries is deprecated. In a future version, this will no longer exclude empty or all-NA columns when determining the result dtypes. To retain the old behavior, exclude the relevant entries before the concat operation.\n",
      "  screen_properties = pd.concat([screen_properties, new_row], ignore_index=True)\n",
      "C:\\Users\\AHMED OSAMA\\AppData\\Local\\Temp\\ipykernel_28176\\3978398701.py:25: FutureWarning: The behavior of DataFrame concatenation with empty or all-NA entries is deprecated. In a future version, this will no longer exclude empty or all-NA columns when determining the result dtypes. To retain the old behavior, exclude the relevant entries before the concat operation.\n",
      "  screen_properties = pd.concat([screen_properties, new_row], ignore_index=True)\n",
      "C:\\Users\\AHMED OSAMA\\AppData\\Local\\Temp\\ipykernel_28176\\3978398701.py:25: FutureWarning: The behavior of DataFrame concatenation with empty or all-NA entries is deprecated. In a future version, this will no longer exclude empty or all-NA columns when determining the result dtypes. To retain the old behavior, exclude the relevant entries before the concat operation.\n",
      "  screen_properties = pd.concat([screen_properties, new_row], ignore_index=True)\n"
     ]
    }
   ],
   "source": [
    "\n",
    "# Create the DataFrame with the appropriate column names\n",
    "screen_properties = pd.DataFrame(columns=[\"Mobile Name\", \"Width\", \"Height\", \"DPR\"])\n",
    "\n",
    "# Populate the DataFrame\n",
    "for i in range(len(mobile_prop)):\n",
    "    text = mobile_prop[i].split()\n",
    "    if len(text) >= 4 and text[-2].replace('.', '').isdigit() and text[-3].replace('.', '').isdigit():\n",
    "        try:\n",
    "            # Extract the data from the text\n",
    "            dpr = float(text[-1]) if text[-1].replace('.', '').isdigit() and float(text[-1]) < 5 else None\n",
    "            height = float(text[-2])\n",
    "            width = float(text[-3])\n",
    "            mobile_name = \" \".join(text[:-3])\n",
    "            \n",
    "            # Create a new row as a DataFrame\n",
    "            new_row = pd.DataFrame({\n",
    "                \"Mobile Name\": [mobile_name],\n",
    "                \"Width\": [width],\n",
    "                \"Height\": [height],\n",
    "                \"DPR\": [dpr]\n",
    "            })\n",
    "\n",
    "            # Append the new row to the DataFrame if it is not empty or all NA\n",
    "            if not new_row.isna().all(axis=None):\n",
    "                screen_properties = pd.concat([screen_properties, new_row], ignore_index=True)\n",
    "        except Exception as e:\n",
    "            print(f\"Error in processing row {i}: {e}\")\n",
    "\n",
    "\n"
   ]
  },
  {
   "cell_type": "code",
   "execution_count": 10,
   "metadata": {},
   "outputs": [
    {
     "data": {
      "text/plain": [
       "Mobile Name    0\n",
       "Width          0\n",
       "Height         0\n",
       "DPR            5\n",
       "dtype: int64"
      ]
     },
     "execution_count": 10,
     "metadata": {},
     "output_type": "execute_result"
    }
   ],
   "source": [
    "# process the dataframe \n",
    "\n",
    "screen_properties.isnull().sum()    "
   ]
  },
  {
   "cell_type": "code",
   "execution_count": 11,
   "metadata": {},
   "outputs": [
    {
     "data": {
      "text/html": [
       "<div>\n",
       "<style scoped>\n",
       "    .dataframe tbody tr th:only-of-type {\n",
       "        vertical-align: middle;\n",
       "    }\n",
       "\n",
       "    .dataframe tbody tr th {\n",
       "        vertical-align: top;\n",
       "    }\n",
       "\n",
       "    .dataframe thead th {\n",
       "        text-align: right;\n",
       "    }\n",
       "</style>\n",
       "<table border=\"1\" class=\"dataframe\">\n",
       "  <thead>\n",
       "    <tr style=\"text-align: right;\">\n",
       "      <th></th>\n",
       "      <th>Mobile Name</th>\n",
       "      <th>Width</th>\n",
       "      <th>Height</th>\n",
       "      <th>DPR</th>\n",
       "    </tr>\n",
       "  </thead>\n",
       "  <tbody>\n",
       "    <tr>\n",
       "      <th>28</th>\n",
       "      <td>Apple Watch Series 1, 3 (38mm)</td>\n",
       "      <td>272.0</td>\n",
       "      <td>340.0</td>\n",
       "      <td>NaN</td>\n",
       "    </tr>\n",
       "    <tr>\n",
       "      <th>29</th>\n",
       "      <td>Apple Watch Series 1, 3 (42mm)</td>\n",
       "      <td>312.0</td>\n",
       "      <td>390.0</td>\n",
       "      <td>NaN</td>\n",
       "    </tr>\n",
       "    <tr>\n",
       "      <th>30</th>\n",
       "      <td>Apple Watch Series 5 (40mm)</td>\n",
       "      <td>324.0</td>\n",
       "      <td>394.0</td>\n",
       "      <td>NaN</td>\n",
       "    </tr>\n",
       "    <tr>\n",
       "      <th>31</th>\n",
       "      <td>Apple Watch Series 5 (44mm)</td>\n",
       "      <td>368.0</td>\n",
       "      <td>448.0</td>\n",
       "      <td>NaN</td>\n",
       "    </tr>\n",
       "    <tr>\n",
       "      <th>59</th>\n",
       "      <td>Google Pixel</td>\n",
       "      <td>2.0</td>\n",
       "      <td>412.0</td>\n",
       "      <td>NaN</td>\n",
       "    </tr>\n",
       "  </tbody>\n",
       "</table>\n",
       "</div>"
      ],
      "text/plain": [
       "                       Mobile Name  Width  Height  DPR\n",
       "28  Apple Watch Series 1, 3 (38mm)  272.0   340.0  NaN\n",
       "29  Apple Watch Series 1, 3 (42mm)  312.0   390.0  NaN\n",
       "30     Apple Watch Series 5 (40mm)  324.0   394.0  NaN\n",
       "31     Apple Watch Series 5 (44mm)  368.0   448.0  NaN\n",
       "59                    Google Pixel    2.0   412.0  NaN"
      ]
     },
     "execution_count": 11,
     "metadata": {},
     "output_type": "execute_result"
    }
   ],
   "source": [
    "# view the null values\n",
    "screen_properties[screen_properties.isnull().any(axis=1)]"
   ]
  },
  {
   "cell_type": "code",
   "execution_count": 13,
   "metadata": {},
   "outputs": [
    {
     "name": "stdout",
     "output_type": "stream",
     "text": [
      "The data has been saved to 'screen_properties.csv'\n"
     ]
    }
   ],
   "source": [
    "# drop the null values  \n",
    "screen_properties = screen_properties.dropna()\n",
    "\n",
    "# Save the DataFrame to a CSV file\n",
    "screen_properties.to_csv(\"Source Data/screen_properties.csv\", index=False)\n",
    "\n",
    "print(\"The data has been saved to 'screen_properties.csv'\")"
   ]
  }
 ],
 "metadata": {
  "kernelspec": {
   "display_name": "Python 3",
   "language": "python",
   "name": "python3"
  },
  "language_info": {
   "codemirror_mode": {
    "name": "ipython",
    "version": 3
   },
   "file_extension": ".py",
   "mimetype": "text/x-python",
   "name": "python",
   "nbconvert_exporter": "python",
   "pygments_lexer": "ipython3",
   "version": "3.11.9"
  }
 },
 "nbformat": 4,
 "nbformat_minor": 2
}
